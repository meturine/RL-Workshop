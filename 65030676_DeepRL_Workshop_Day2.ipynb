{
  "nbformat": 4,
  "nbformat_minor": 0,
  "metadata": {
    "colab": {
      "provenance": []
    },
    "kernelspec": {
      "name": "python3",
      "display_name": "Python 3"
    },
    "language_info": {
      "name": "python"
    }
  },
  "cells": [
    {
      "cell_type": "markdown",
      "metadata": {
        "id": "view-in-github"
      },
      "source": [
        "<a href=\"https://colab.research.google.com/github/ro-witthawin/BU-DeepReinforcementLearning/blob/workshop2/BU_DeepRL_Workshop_Day2.ipynb\" target=\"_parent\"><img src=\"https://colab.research.google.com/assets/colab-badge.svg\" alt=\"Open In Colab\"/></a>"
      ]
    },
    {
      "cell_type": "code",
      "execution_count": null,
      "metadata": {
        "colab": {
          "base_uri": "https://localhost:8080/"
        },
        "id": "FSKtHiQ7HPnR",
        "outputId": "e3fdbb54-5b45-4326-ce9e-1b35e6515d57"
      },
      "outputs": [
        {
          "output_type": "stream",
          "name": "stdout",
          "text": [
            "Cloning into 'BU-DeepReinforcementLearning'...\n",
            "remote: Enumerating objects: 100, done.\u001b[K\n",
            "remote: Counting objects: 100% (100/100), done.\u001b[K\n",
            "remote: Compressing objects: 100% (84/84), done.\u001b[K\n",
            "remote: Total 100 (delta 32), reused 69 (delta 15), pack-reused 0 (from 0)\u001b[K\n",
            "Receiving objects: 100% (100/100), 7.70 MiB | 22.22 MiB/s, done.\n",
            "Resolving deltas: 100% (32/32), done.\n"
          ]
        }
      ],
      "source": [
        "!git clone -b workshop2 https://github.com/ro-witthawin/BU-DeepReinforcementLearning.git\n",
        "!cp -R BU-DeepReinforcementLearning/BU_DeepRL_Workshop_Day2 FlappyBird"
      ]
    },
    {
      "cell_type": "code",
      "source": [
        "ls FlappyBird"
      ],
      "metadata": {
        "colab": {
          "base_uri": "https://localhost:8080/"
        },
        "id": "-4VwdAoQHgUG",
        "outputId": "af1ecfa7-7d8e-4b75-b05b-f9715f83d60a"
      },
      "execution_count": null,
      "outputs": [
        {
          "output_type": "stream",
          "name": "stdout",
          "text": [
            "agent.py  experience_replay.py  README.md         \u001b[0m\u001b[01;34mruns\u001b[0m/\n",
            "dqn.py    hyperparameters.yml   requirements.txt  \u001b[01;34mvideo\u001b[0m/\n"
          ]
        }
      ]
    },
    {
      "cell_type": "code",
      "source": [
        "%%bash\n",
        "\n",
        "# install required system dependencies\n",
        "apt-get install -y xvfb x11-utils\n",
        "\n",
        "# install required python dependencies (might need to install additional gym extras depending)\n",
        "pip install pyvirtualdisplay==0.2.* PyOpenGL==3.1.* PyOpenGL-accelerate==3.1.*"
      ],
      "metadata": {
        "colab": {
          "base_uri": "https://localhost:8080/"
        },
        "id": "mG-Rb243MWog",
        "outputId": "d7938610-910d-4e8d-ae8d-c8899ec6d164"
      },
      "execution_count": null,
      "outputs": [
        {
          "output_type": "stream",
          "name": "stdout",
          "text": [
            "Reading package lists...\n",
            "Building dependency tree...\n",
            "Reading state information...\n",
            "x11-utils is already the newest version (7.7+5build2).\n",
            "xvfb is already the newest version (2:21.1.4-2ubuntu1.7~22.04.13).\n",
            "0 upgraded, 0 newly installed, 0 to remove and 29 not upgraded.\n",
            "Requirement already satisfied: pyvirtualdisplay==0.2.* in /usr/local/lib/python3.11/dist-packages (0.2.5)\n",
            "Requirement already satisfied: PyOpenGL==3.1.* in /usr/local/lib/python3.11/dist-packages (3.1.9)\n",
            "Requirement already satisfied: PyOpenGL-accelerate==3.1.* in /usr/local/lib/python3.11/dist-packages (3.1.9)\n",
            "Requirement already satisfied: EasyProcess in /usr/local/lib/python3.11/dist-packages (from pyvirtualdisplay==0.2.*) (1.1)\n"
          ]
        }
      ]
    },
    {
      "cell_type": "code",
      "source": [
        "!pip install -r FlappyBird/requirements.txt"
      ],
      "metadata": {
        "colab": {
          "base_uri": "https://localhost:8080/"
        },
        "id": "y_b_L86XHgZ3",
        "outputId": "a6b73db4-6db5-41ec-c33e-df42b95bc9b3"
      },
      "execution_count": null,
      "outputs": [
        {
          "output_type": "stream",
          "name": "stdout",
          "text": [
            "Requirement already satisfied: gymnasium in /usr/local/lib/python3.11/dist-packages (from -r FlappyBird/requirements.txt (line 1)) (1.1.1)\n",
            "Requirement already satisfied: flappy-bird-gymnasium in /usr/local/lib/python3.11/dist-packages (from -r FlappyBird/requirements.txt (line 2)) (0.4.0)\n",
            "Requirement already satisfied: torch in /usr/local/lib/python3.11/dist-packages (from -r FlappyBird/requirements.txt (line 3)) (2.6.0+cu124)\n",
            "Requirement already satisfied: matplotlib in /usr/local/lib/python3.11/dist-packages (from -r FlappyBird/requirements.txt (line 4)) (3.10.0)\n",
            "Requirement already satisfied: pyyaml in /usr/local/lib/python3.11/dist-packages (from -r FlappyBird/requirements.txt (line 5)) (6.0.2)\n",
            "Requirement already satisfied: opencv-python in /usr/local/lib/python3.11/dist-packages (from -r FlappyBird/requirements.txt (line 6)) (4.11.0.86)\n",
            "Requirement already satisfied: numpy>=1.21.0 in /usr/local/lib/python3.11/dist-packages (from gymnasium->-r FlappyBird/requirements.txt (line 1)) (1.26.4)\n",
            "Requirement already satisfied: cloudpickle>=1.2.0 in /usr/local/lib/python3.11/dist-packages (from gymnasium->-r FlappyBird/requirements.txt (line 1)) (3.1.1)\n",
            "Requirement already satisfied: typing-extensions>=4.3.0 in /usr/local/lib/python3.11/dist-packages (from gymnasium->-r FlappyBird/requirements.txt (line 1)) (4.12.2)\n",
            "Requirement already satisfied: farama-notifications>=0.0.1 in /usr/local/lib/python3.11/dist-packages (from gymnasium->-r FlappyBird/requirements.txt (line 1)) (0.0.4)\n",
            "Requirement already satisfied: pygame in /usr/local/lib/python3.11/dist-packages (from flappy-bird-gymnasium->-r FlappyBird/requirements.txt (line 2)) (2.6.1)\n",
            "Requirement already satisfied: filelock in /usr/local/lib/python3.11/dist-packages (from torch->-r FlappyBird/requirements.txt (line 3)) (3.17.0)\n",
            "Requirement already satisfied: networkx in /usr/local/lib/python3.11/dist-packages (from torch->-r FlappyBird/requirements.txt (line 3)) (3.4.2)\n",
            "Requirement already satisfied: jinja2 in /usr/local/lib/python3.11/dist-packages (from torch->-r FlappyBird/requirements.txt (line 3)) (3.1.6)\n",
            "Requirement already satisfied: fsspec in /usr/local/lib/python3.11/dist-packages (from torch->-r FlappyBird/requirements.txt (line 3)) (2024.10.0)\n",
            "Requirement already satisfied: nvidia-cuda-nvrtc-cu12==12.4.127 in /usr/local/lib/python3.11/dist-packages (from torch->-r FlappyBird/requirements.txt (line 3)) (12.4.127)\n",
            "Requirement already satisfied: nvidia-cuda-runtime-cu12==12.4.127 in /usr/local/lib/python3.11/dist-packages (from torch->-r FlappyBird/requirements.txt (line 3)) (12.4.127)\n",
            "Requirement already satisfied: nvidia-cuda-cupti-cu12==12.4.127 in /usr/local/lib/python3.11/dist-packages (from torch->-r FlappyBird/requirements.txt (line 3)) (12.4.127)\n",
            "Requirement already satisfied: nvidia-cudnn-cu12==9.1.0.70 in /usr/local/lib/python3.11/dist-packages (from torch->-r FlappyBird/requirements.txt (line 3)) (9.1.0.70)\n",
            "Requirement already satisfied: nvidia-cublas-cu12==12.4.5.8 in /usr/local/lib/python3.11/dist-packages (from torch->-r FlappyBird/requirements.txt (line 3)) (12.4.5.8)\n",
            "Requirement already satisfied: nvidia-cufft-cu12==11.2.1.3 in /usr/local/lib/python3.11/dist-packages (from torch->-r FlappyBird/requirements.txt (line 3)) (11.2.1.3)\n",
            "Requirement already satisfied: nvidia-curand-cu12==10.3.5.147 in /usr/local/lib/python3.11/dist-packages (from torch->-r FlappyBird/requirements.txt (line 3)) (10.3.5.147)\n",
            "Requirement already satisfied: nvidia-cusolver-cu12==11.6.1.9 in /usr/local/lib/python3.11/dist-packages (from torch->-r FlappyBird/requirements.txt (line 3)) (11.6.1.9)\n",
            "Requirement already satisfied: nvidia-cusparse-cu12==12.3.1.170 in /usr/local/lib/python3.11/dist-packages (from torch->-r FlappyBird/requirements.txt (line 3)) (12.3.1.170)\n",
            "Requirement already satisfied: nvidia-cusparselt-cu12==0.6.2 in /usr/local/lib/python3.11/dist-packages (from torch->-r FlappyBird/requirements.txt (line 3)) (0.6.2)\n",
            "Requirement already satisfied: nvidia-nccl-cu12==2.21.5 in /usr/local/lib/python3.11/dist-packages (from torch->-r FlappyBird/requirements.txt (line 3)) (2.21.5)\n",
            "Requirement already satisfied: nvidia-nvtx-cu12==12.4.127 in /usr/local/lib/python3.11/dist-packages (from torch->-r FlappyBird/requirements.txt (line 3)) (12.4.127)\n",
            "Requirement already satisfied: nvidia-nvjitlink-cu12==12.4.127 in /usr/local/lib/python3.11/dist-packages (from torch->-r FlappyBird/requirements.txt (line 3)) (12.4.127)\n",
            "Requirement already satisfied: triton==3.2.0 in /usr/local/lib/python3.11/dist-packages (from torch->-r FlappyBird/requirements.txt (line 3)) (3.2.0)\n",
            "Requirement already satisfied: sympy==1.13.1 in /usr/local/lib/python3.11/dist-packages (from torch->-r FlappyBird/requirements.txt (line 3)) (1.13.1)\n",
            "Requirement already satisfied: mpmath<1.4,>=1.1.0 in /usr/local/lib/python3.11/dist-packages (from sympy==1.13.1->torch->-r FlappyBird/requirements.txt (line 3)) (1.3.0)\n",
            "Requirement already satisfied: contourpy>=1.0.1 in /usr/local/lib/python3.11/dist-packages (from matplotlib->-r FlappyBird/requirements.txt (line 4)) (1.3.1)\n",
            "Requirement already satisfied: cycler>=0.10 in /usr/local/lib/python3.11/dist-packages (from matplotlib->-r FlappyBird/requirements.txt (line 4)) (0.12.1)\n",
            "Requirement already satisfied: fonttools>=4.22.0 in /usr/local/lib/python3.11/dist-packages (from matplotlib->-r FlappyBird/requirements.txt (line 4)) (4.56.0)\n",
            "Requirement already satisfied: kiwisolver>=1.3.1 in /usr/local/lib/python3.11/dist-packages (from matplotlib->-r FlappyBird/requirements.txt (line 4)) (1.4.8)\n",
            "Requirement already satisfied: packaging>=20.0 in /usr/local/lib/python3.11/dist-packages (from matplotlib->-r FlappyBird/requirements.txt (line 4)) (24.2)\n",
            "Requirement already satisfied: pillow>=8 in /usr/local/lib/python3.11/dist-packages (from matplotlib->-r FlappyBird/requirements.txt (line 4)) (11.1.0)\n",
            "Requirement already satisfied: pyparsing>=2.3.1 in /usr/local/lib/python3.11/dist-packages (from matplotlib->-r FlappyBird/requirements.txt (line 4)) (3.2.1)\n",
            "Requirement already satisfied: python-dateutil>=2.7 in /usr/local/lib/python3.11/dist-packages (from matplotlib->-r FlappyBird/requirements.txt (line 4)) (2.8.2)\n",
            "Requirement already satisfied: six>=1.5 in /usr/local/lib/python3.11/dist-packages (from python-dateutil>=2.7->matplotlib->-r FlappyBird/requirements.txt (line 4)) (1.17.0)\n",
            "Requirement already satisfied: MarkupSafe>=2.0 in /usr/local/lib/python3.11/dist-packages (from jinja2->torch->-r FlappyBird/requirements.txt (line 3)) (3.0.2)\n"
          ]
        }
      ]
    },
    {
      "cell_type": "code",
      "source": [
        "cd FlappyBird"
      ],
      "metadata": {
        "colab": {
          "base_uri": "https://localhost:8080/"
        },
        "id": "3Zy6f3oUI25p",
        "outputId": "c8271abc-a266-48c4-af53-5e271f9181ed"
      },
      "execution_count": null,
      "outputs": [
        {
          "output_type": "stream",
          "name": "stdout",
          "text": [
            "/content/FlappyBird/FlappyBird\n"
          ]
        }
      ]
    },
    {
      "cell_type": "code",
      "source": [
        "def rewrite_file(filename: str, new_content: str):\n",
        "    \"\"\"\n",
        "    Rewrites the given file with new content.\n",
        "\n",
        "    :param filename: str - The name of the file to rewrite.\n",
        "    :param new_content: str - The new content to write into the file.\n",
        "    \"\"\"\n",
        "    try:\n",
        "        with open(filename, 'w', encoding='utf-8') as file:\n",
        "            file.write(new_content)\n",
        "        print(f\"Successfully rewritten {filename}\")\n",
        "    except Exception as e:\n",
        "        print(f\"Error rewriting {filename}: {e}\")\n",
        "\n",
        "agent_for_colab = \"\"\"\n",
        "import gymnasium as gym\n",
        "import numpy as np\n",
        "import cv2\n",
        "\n",
        "import matplotlib\n",
        "import matplotlib.pyplot as plt\n",
        "\n",
        "import random\n",
        "import torch\n",
        "from torch import nn\n",
        "import yaml\n",
        "\n",
        "from experience_replay import ReplayMemory\n",
        "from dqn import DQN\n",
        "\n",
        "from datetime import datetime, timedelta\n",
        "import argparse\n",
        "import itertools\n",
        "\n",
        "import flappy_bird_gymnasium\n",
        "import os\n",
        "\n",
        "# For printing date and time\n",
        "DATE_FORMAT = \"%m-%d %H:%M:%S\"\n",
        "\n",
        "# Directory for saving run info\n",
        "RUNS_DIR = \"runs\"\n",
        "os.makedirs(RUNS_DIR, exist_ok=True)\n",
        "\n",
        "# 'Agg': used to generate plots as images and save them to a file instead of rendering to screen\n",
        "matplotlib.use('Agg')\n",
        "\n",
        "device = 'cuda' if torch.cuda.is_available() else 'cpu'\n",
        "device = 'cpu' # force cpu, sometimes GPU not always faster than CPU due to overhead of moving data to GPU\n",
        "\n",
        "def create_video(source, fps=60, output_name='output'):\n",
        "    out = cv2.VideoWriter(output_name + '.mp4', cv2.VideoWriter_fourcc(*'mp4v'), fps, (source[0].shape[1], source[0].shape[0]))\n",
        "    for i in range(len(source)):\n",
        "        out.write(source[i])\n",
        "    out.release()\n",
        "\n",
        "# Deep Q-Learning Agent\n",
        "class Agent():\n",
        "\n",
        "    def __init__(self, hyperparameter_set):\n",
        "        with open('hyperparameters.yml', 'r') as file:\n",
        "            all_hyperparameter_sets = yaml.safe_load(file)\n",
        "            hyperparameters = all_hyperparameter_sets[hyperparameter_set]\n",
        "            # print(hyperparameters)\n",
        "\n",
        "        self.hyperparameter_set = hyperparameter_set\n",
        "\n",
        "        # Hyperparameters (adjustable)\n",
        "        self.env_id             = hyperparameters['env_id']\n",
        "        self.learning_rate_a    = hyperparameters['learning_rate_a']        # learning rate (alpha)\n",
        "        self.discount_factor_g  = hyperparameters['discount_factor_g']      # discount rate (gamma)\n",
        "        self.network_sync_rate  = hyperparameters['network_sync_rate']      # number of steps the agent takes before syncing the policy and target network\n",
        "        self.replay_memory_size = hyperparameters['replay_memory_size']     # size of replay memory\n",
        "        self.mini_batch_size    = hyperparameters['mini_batch_size']        # size of the training data set sampled from the replay memory\n",
        "        self.epsilon_init       = hyperparameters['epsilon_init']           # 1 = 100% random actions\n",
        "        self.epsilon_decay      = hyperparameters['epsilon_decay']          # epsilon decay rate\n",
        "        self.epsilon_min        = hyperparameters['epsilon_min']            # minimum epsilon value\n",
        "        self.stop_on_reward     = hyperparameters['stop_on_reward']         # stop training after reaching this number of rewards\n",
        "        self.fc1_nodes          = hyperparameters['fc1_nodes']\n",
        "        self.env_make_params    = hyperparameters.get('env_make_params',{}) # Get optional environment-specific parameters, default to empty dict\n",
        "        self.enable_double_dqn  = hyperparameters['enable_double_dqn']      # double dqn on/off flag\n",
        "        self.enable_dueling_dqn = hyperparameters['enable_dueling_dqn']     # dueling dqn on/off flag\n",
        "\n",
        "        # Neural Network\n",
        "        self.loss_fn = nn.MSELoss()          # NN Loss function. MSE=Mean Squared Error can be swapped to something else.\n",
        "        self.optimizer = None                # NN Optimizer. Initialize later.\n",
        "\n",
        "        # Path to Run info\n",
        "        self.LOG_FILE   = os.path.join(RUNS_DIR, f'{self.hyperparameter_set}.log')\n",
        "        self.MODEL_FILE = os.path.join(RUNS_DIR, f'{self.hyperparameter_set}.pt')\n",
        "        self.GRAPH_FILE = os.path.join(RUNS_DIR, f'{self.hyperparameter_set}.png')\n",
        "\n",
        "    def run(self, is_training=True, render=False, save=False, save_episode=10000):\n",
        "        if is_training:\n",
        "            start_time = datetime.now()\n",
        "            last_graph_update_time = start_time\n",
        "\n",
        "            log_message = f\"{start_time.strftime(DATE_FORMAT)}: Training starting...\"\n",
        "            print(log_message)\n",
        "            with open(self.LOG_FILE, 'w') as file:\n",
        "                file.write(log_message + \"\\\\n\")\n",
        "\n",
        "        # Create instance of the environment.\n",
        "        # Use \"**self.env_make_params\" to pass in environment-specific parameters from hyperparameters.yml.\n",
        "        if not save:\n",
        "            env = gym.make(self.env_id, render_mode='human' if render else None, **self.env_make_params)\n",
        "        else:\n",
        "            env = gym.make(self.env_id, render_mode='rgb_array' if render else None, **self.env_make_params)\n",
        "\n",
        "        # Number of possible actions\n",
        "        num_actions = env.action_space.n\n",
        "        # Get observation space size\n",
        "        num_states = env.observation_space.shape[0] # Expecting type: Box(low, high, (shape0,), float64)\n",
        "\n",
        "        # List to keep track of rewards collected per episode.\n",
        "        rewards_per_episode = []\n",
        "\n",
        "        # Create policy and target network. Number of nodes in the hidden layer can be adjusted.\n",
        "        policy_dqn = DQN(num_states, num_actions, self.fc1_nodes, self.enable_dueling_dqn).to(device)\n",
        "\n",
        "        if is_training:\n",
        "            # Initialize epsilon\n",
        "            epsilon = self.epsilon_init\n",
        "\n",
        "            # Initialize replay memory\n",
        "            memory = ReplayMemory(self.replay_memory_size)\n",
        "\n",
        "            # Create the target network and make it identical to the policy network\n",
        "            target_dqn = DQN(num_states, num_actions, self.fc1_nodes, self.enable_dueling_dqn).to(device)\n",
        "            target_dqn.load_state_dict(policy_dqn.state_dict())\n",
        "\n",
        "            # Policy network optimizer. \"Adam\" optimizer can be swapped to something else.\n",
        "            self.optimizer = torch.optim.Adam(policy_dqn.parameters(), lr=self.learning_rate_a)\n",
        "\n",
        "            # List to keep track of epsilon decay\n",
        "            epsilon_history = []\n",
        "\n",
        "            # Track number of steps taken. Used for syncing policy => target network.\n",
        "            step_count=0\n",
        "\n",
        "            # Track best reward\n",
        "            best_reward = -9999999\n",
        "        else:\n",
        "            # Load learned policy\n",
        "            # policy_dqn.load_state_dict(torch.load(self.MODEL_FILE), strict=False)\n",
        "            policy_dqn.load_state_dict(torch.load(self.MODEL_FILE))\n",
        "\n",
        "            # switch model to evaluation mode\n",
        "            policy_dqn.eval()\n",
        "\n",
        "        # Train INDEFINITELY, manually stop the run when you are satisfied (or unsatisfied) with the results\n",
        "        for episode in itertools.count():\n",
        "            # print(f\"episode : {episode}\")\n",
        "            state, _ = env.reset()  # Initialize environment. Reset returns (state,info).\n",
        "            state = torch.tensor(state, dtype=torch.float, device=device) # Convert state to tensor directly on device\n",
        "\n",
        "            terminated = False      # True when agent reaches goal or fails\n",
        "            episode_reward = 0.0    # Used to accumulate rewards per episode\n",
        "\n",
        "            if save and (episode % save_episode == 0):\n",
        "                frames = []\n",
        "\n",
        "            # Perform actions until episode terminates or reaches max rewards\n",
        "            # (on some envs, it is possible for the agent to train to a point where it NEVER terminates, so stop on reward is necessary)\n",
        "            while(not terminated and episode_reward < self.stop_on_reward):\n",
        "\n",
        "                # Select action based on epsilon-greedy\n",
        "                if is_training and random.random() < epsilon:\n",
        "                    # select random action\n",
        "                    action = env.action_space.sample()\n",
        "                    action = torch.tensor(action, dtype=torch.int64, device=device)\n",
        "                else:\n",
        "                    # select best action\n",
        "                    with torch.no_grad():\n",
        "                        # state.unsqueeze(dim=0): Pytorch expects a batch layer, so add batch dimension i.e. tensor([1, 2, 3]) unsqueezes to tensor([[1, 2, 3]])\n",
        "                        # policy_dqn returns tensor([[1], [2], [3]]), so squeeze it to tensor([1, 2, 3]).\n",
        "                        # argmax finds the index of the largest element.\n",
        "                        action = policy_dqn(state.unsqueeze(dim=0)).squeeze().argmax()\n",
        "\n",
        "                # Execute action. Truncated and info is not used.\n",
        "                new_state,reward,terminated,truncated,info = env.step(action.item())\n",
        "\n",
        "                # Accumulate rewards\n",
        "                episode_reward += reward\n",
        "\n",
        "                # Convert new state and reward to tensors on device\n",
        "                new_state = torch.tensor(new_state, dtype=torch.float, device=device)\n",
        "                reward = torch.tensor(reward, dtype=torch.float, device=device)\n",
        "\n",
        "                if is_training:\n",
        "                    # Save experience into memory\n",
        "                    memory.append((state, action, new_state, reward, terminated))\n",
        "\n",
        "                    # Increment step counter\n",
        "                    step_count+=1\n",
        "\n",
        "                # Move to the next state\n",
        "                state = new_state\n",
        "                if save and (episode % save_episode == 0):\n",
        "                    frames.append(env.render()[..., ::-1])\n",
        "            # Keep track of the rewards collected per episode.\n",
        "            rewards_per_episode.append(episode_reward)\n",
        "\n",
        "\n",
        "            if save and (episode % save_episode == 0):\n",
        "                str_episode = \"{:08d}\".format(episode)\n",
        "                print(f\"Save video/{str_episode}.mp4\")\n",
        "                create_video(frames, 30, f'video/{str_episode}')\n",
        "\n",
        "            # Save model when new best reward is obtained.\n",
        "            if is_training:\n",
        "                if episode_reward > best_reward:\n",
        "                    log_message = f\"{datetime.now().strftime(DATE_FORMAT)}: New best reward {episode_reward:0.1f} ({(episode_reward-best_reward)/best_reward*100:+.1f}%) at episode {episode}, saving model...\"\n",
        "                    print(log_message)\n",
        "                    with open(self.LOG_FILE, 'a') as file:\n",
        "                        file.write(log_message + \"\\\\n\")\n",
        "\n",
        "                    torch.save(policy_dqn.state_dict(), self.MODEL_FILE)\n",
        "                    best_reward = episode_reward\n",
        "\n",
        "\n",
        "                # Update graph every x seconds\n",
        "                current_time = datetime.now()\n",
        "                if current_time - last_graph_update_time > timedelta(seconds=10):\n",
        "                    self.save_graph(rewards_per_episode, epsilon_history)\n",
        "                    last_graph_update_time = current_time\n",
        "\n",
        "                # If enough experience has been collected\n",
        "                if len(memory)>self.mini_batch_size:\n",
        "                    mini_batch = memory.sample(self.mini_batch_size)\n",
        "                    self.optimize(mini_batch, policy_dqn, target_dqn)\n",
        "\n",
        "                    # Decay epsilon\n",
        "                    epsilon = max(epsilon * self.epsilon_decay, self.epsilon_min)\n",
        "                    epsilon_history.append(epsilon)\n",
        "\n",
        "                    # Copy policy network to target network after a certain number of steps\n",
        "                    if step_count > self.network_sync_rate:\n",
        "                        target_dqn.load_state_dict(policy_dqn.state_dict())\n",
        "                        step_count=0\n",
        "\n",
        "\n",
        "    def save_graph(self, rewards_per_episode, epsilon_history):\n",
        "        # Save plots\n",
        "        fig = plt.figure(figsize=(16, 9))\n",
        "\n",
        "        # Plot average rewards (Y-axis) vs episodes (X-axis)\n",
        "        mean_rewards = np.zeros(len(rewards_per_episode))\n",
        "        for x in range(len(mean_rewards)):\n",
        "            mean_rewards[x] = np.mean(rewards_per_episode[max(0, x-99):(x+1)])\n",
        "        plt.subplot(211) # plot on a 1 row x 2 col grid, at cell 1\n",
        "        # plt.xlabel('Episodes')\n",
        "        plt.ylabel('Mean Rewards')\n",
        "        plt.plot(mean_rewards)\n",
        "\n",
        "        # Plot epsilon decay (Y-axis) vs episodes (X-axis)\n",
        "        plt.subplot(212) # plot on a 1 row x 2 col grid, at cell 2\n",
        "        # plt.xlabel('Time Steps')\n",
        "        plt.ylabel('Epsilon Decay')\n",
        "        plt.plot(epsilon_history)\n",
        "\n",
        "        # plt.subplots_adjust(wspace=1.0, hspace=1.0)\n",
        "\n",
        "        # Save plots\n",
        "        fig.savefig(self.GRAPH_FILE)\n",
        "        plt.close(fig)\n",
        "\n",
        "\n",
        "    # Optimize policy network\n",
        "    def optimize(self, mini_batch, policy_dqn, target_dqn):\n",
        "\n",
        "        # Transpose the list of experiences and separate each element\n",
        "        states, actions, new_states, rewards, terminations = zip(*mini_batch)\n",
        "\n",
        "        # Stack tensors to create batch tensors\n",
        "        # tensor([[1,2,3]])\n",
        "        states = torch.stack(states)\n",
        "\n",
        "        actions = torch.stack(actions)\n",
        "\n",
        "        new_states = torch.stack(new_states)\n",
        "\n",
        "        rewards = torch.stack(rewards)\n",
        "        terminations = torch.tensor(terminations).float().to(device)\n",
        "\n",
        "        with torch.no_grad():\n",
        "            if self.enable_double_dqn:\n",
        "                best_actions_from_policy = policy_dqn(new_states).argmax(dim=1)\n",
        "\n",
        "                target_q = rewards + (1-terminations) * self.discount_factor_g * \\\n",
        "                                target_dqn(new_states).gather(dim=1, index=best_actions_from_policy.unsqueeze(dim=1)).squeeze()\n",
        "            else:\n",
        "                # Calculate target Q values (expected returns)\n",
        "                target_q = rewards + (1-terminations) * self.discount_factor_g * target_dqn(new_states).max(dim=1)[0]\n",
        "                '''\n",
        "                    target_dqn(new_states)  ==> tensor([[1,2,3],[4,5,6]])\n",
        "                        .max(dim=1)         ==> torch.return_types.max(values=tensor([3,6]), indices=tensor([3, 0, 0, 1]))\n",
        "                            [0]             ==> tensor([3,6])\n",
        "                '''\n",
        "\n",
        "        # Calcuate Q values from current policy\n",
        "        current_q = policy_dqn(states).gather(dim=1, index=actions.unsqueeze(dim=1)).squeeze()\n",
        "        '''\n",
        "            policy_dqn(states)  ==> tensor([[1,2,3],[4,5,6]])\n",
        "                actions.unsqueeze(dim=1)\n",
        "                .gather(1, actions.unsqueeze(dim=1))  ==>\n",
        "                    .squeeze()                    ==>\n",
        "        '''\n",
        "\n",
        "        # Compute loss\n",
        "        loss = self.loss_fn(current_q, target_q)\n",
        "\n",
        "        # Optimize the model (backpropagation)\n",
        "        self.optimizer.zero_grad()  # Clear gradients\n",
        "        loss.backward()             # Compute gradients\n",
        "        self.optimizer.step()       # Update network parameters i.e. weights and biases\n",
        "\n",
        "if __name__ == '__main__':\n",
        "    # Parse command line inputs\n",
        "    parser = argparse.ArgumentParser(description='Train or test model.')\n",
        "    parser.add_argument('hyperparameters', help='')\n",
        "    parser.add_argument('--train', help='Training mode', action='store_true')\n",
        "    args = parser.parse_args()\n",
        "\n",
        "    dql = Agent(hyperparameter_set=args.hyperparameters)\n",
        "\n",
        "    if args.train:\n",
        "        dql.run(is_training=True)\n",
        "    else:\n",
        "        # dql.run(is_training=False, render=True)\n",
        "        dql.run(is_training=False, render=True, save=True, save_episode=1000)\n",
        "\"\"\"\n",
        "\n",
        "rewrite_file(\"agent.py\", agent_for_colab)"
      ],
      "metadata": {
        "id": "EQgePYDRoBLr",
        "outputId": "e3df4796-2eca-492c-90fe-2b87bc577900",
        "colab": {
          "base_uri": "https://localhost:8080/"
        }
      },
      "execution_count": null,
      "outputs": [
        {
          "output_type": "stream",
          "name": "stdout",
          "text": [
            "Successfully rewritten agent.py\n"
          ]
        }
      ]
    },
    {
      "cell_type": "code",
      "source": [
        "!python agent.py flappybird2"
      ],
      "metadata": {
        "colab": {
          "base_uri": "https://localhost:8080/"
        },
        "id": "gjWUgyfjHgcs",
        "outputId": "f421ca65-0277-41df-ab5a-f6ac64bd338b"
      },
      "execution_count": null,
      "outputs": [
        {
          "output_type": "stream",
          "name": "stdout",
          "text": [
            "Save video/00000000.mp4\n",
            "object address  : 0x7a4515994160\n",
            "object refcount : 2\n",
            "object type     : 0x9d5ea0\n",
            "object type name: KeyboardInterrupt\n",
            "object repr     : KeyboardInterrupt()\n",
            "lost sys.stderr\n",
            "^C\n"
          ]
        }
      ]
    },
    {
      "cell_type": "code",
      "source": [
        "!python agent.py flappybird2"
      ],
      "metadata": {
        "id": "__bC9y7mMDW3",
        "colab": {
          "base_uri": "https://localhost:8080/"
        },
        "outputId": "582e3bbe-703d-4b98-8cf7-86ba3c0801b6"
      },
      "execution_count": null,
      "outputs": [
        {
          "output_type": "stream",
          "name": "stdout",
          "text": [
            "Traceback (most recent call last):\n",
            "  File \"/content/FlappyBird/FlappyBird/agent.py\", line 316, in <module>\n",
            "    dql.run(is_training=False, render=True, save=True, save_episode=1000)\n",
            "  File \"/content/FlappyBird/FlappyBird/agent.py\", line 186, in run\n",
            "    frames.append(env.render()[..., ::-1])\n",
            "                  ^^^^^^^^^^^^\n",
            "  File \"/usr/local/lib/python3.11/dist-packages/gymnasium/wrappers/common.py\", line 409, in render\n",
            "    return super().render()\n",
            "           ^^^^^^^^^^^^^^^^\n",
            "  File \"/usr/local/lib/python3.11/dist-packages/gymnasium/core.py\", line 337, in render\n",
            "    return self.env.render()\n",
            "           ^^^^^^^^^^^^^^^^^\n",
            "  File \"/usr/local/lib/python3.11/dist-packages/gymnasium/wrappers/common.py\", line 303, in render\n",
            "    return self.env.render()\n",
            "           ^^^^^^^^^^^^^^^^^\n",
            "  File \"/usr/local/lib/python3.11/dist-packages/flappy_bird_gymnasium/envs/flappy_bird_env.py\", line 398, in render\n",
            "    self._draw_surface(show_score=False, show_rays=False)\n",
            "  File \"/usr/local/lib/python3.11/dist-packages/flappy_bird_gymnasium/envs/flappy_bird_env.py\", line 594, in _draw_surface\n",
            "    self._surface.blit(self._images[\"background\"], (0, 0))\n",
            "KeyboardInterrupt\n",
            "^C\n"
          ]
        }
      ]
    },
    {
      "cell_type": "code",
      "source": [
        "from PIL import Image\n",
        "import IPython.display as display\n",
        "\n",
        "# Load the image\n",
        "image_path = \"runs/flappybird2.png\"  # Replace with your file path\n",
        "image = Image.open(image_path)\n",
        "\n",
        "# Display the image\n",
        "display.display(image)"
      ],
      "metadata": {
        "colab": {
          "base_uri": "https://localhost:8080/",
          "height": 812
        },
        "id": "Us8kwR7_edP2",
        "outputId": "9198aa25-d2d0-4ebb-f1f6-9adb8dc17a50"
      },
      "execution_count": null,
      "outputs": [
        {
          "output_type": "display_data",
          "data": {
            "text/plain": [
              "<PIL.PngImagePlugin.PngImageFile image mode=RGBA size=1600x900>"
            ],
            "image/png": "[encoded data removed]"
          },
          "metadata": {}
        }
      ]
    },
    {
      "cell_type": "code",
      "source": [
        "import os\n",
        "\n",
        "video_dir = \"video\"\n",
        "video_files = sorted(os.listdir(video_dir))\n",
        "\n",
        "for video in video_files:\n",
        "    print(video)"
      ],
      "metadata": {
        "colab": {
          "base_uri": "https://localhost:8080/"
        },
        "id": "asSabztvsMQo",
        "outputId": "6e96b309-f536-4ad3-d2b0-8319f705139b"
      },
      "execution_count": null,
      "outputs": [
        {
          "output_type": "stream",
          "name": "stdout",
          "text": [
            ".DS_Store\n",
            "00000000.mp4\n",
            "00001000.mp4\n",
            "00002000.mp4\n",
            "00003000.mp4\n",
            "00004000.mp4\n",
            "00005000.mp4\n",
            "00006000.mp4\n",
            "00007000.mp4\n",
            "00008000.mp4\n",
            "00009000.mp4\n",
            "00010000.mp4\n",
            "00011000.mp4\n",
            "00012000.mp4\n",
            "00013000.mp4\n",
            "00014000.mp4\n",
            "00015000.mp4\n",
            "00016000.mp4\n",
            "00017000.mp4\n",
            "00018000.mp4\n",
            "00019000.mp4\n",
            "00020000.mp4\n",
            "00021000.mp4\n",
            "00022000.mp4\n",
            "00023000.mp4\n",
            "00024000.mp4\n",
            "00025000.mp4\n",
            "00026000.mp4\n",
            "00027000.mp4\n"
          ]
        }
      ]
    },
    {
      "cell_type": "code",
      "source": [
        "from google.colab import files\n",
        "\n",
        "files.download(\"video/00000000.mp4\")"
      ],
      "metadata": {
        "colab": {
          "base_uri": "https://localhost:8080/",
          "height": 17
        },
        "id": "pxMdWX4bsQ3U",
        "outputId": "56781c0a-26c0-4d50-adcd-eb9d9cdd704f"
      },
      "execution_count": null,
      "outputs": [
        {
          "output_type": "display_data",
          "data": {
            "text/plain": [
              "<IPython.core.display.Javascript object>"
            ],
            "application/javascript": [
              "\n",
              "    async function download(id, filename, size) {\n",
              "      if (!google.colab.kernel.accessAllowed) {\n",
              "        return;\n",
              "      }\n",
              "      const div = document.createElement('div');\n",
              "      const label = document.createElement('label');\n",
              "      label.textContent = `Downloading \"${filename}\": `;\n",
              "      div.appendChild(label);\n",
              "      const progress = document.createElement('progress');\n",
              "      progress.max = size;\n",
              "      div.appendChild(progress);\n",
              "      document.body.appendChild(div);\n",
              "\n",
              "      const buffers = [];\n",
              "      let downloaded = 0;\n",
              "\n",
              "      const channel = await google.colab.kernel.comms.open(id);\n",
              "      // Send a message to notify the kernel that we're ready.\n",
              "      channel.send({})\n",
              "\n",
              "      for await (const message of channel.messages) {\n",
              "        // Send a message to notify the kernel that we're ready.\n",
              "        channel.send({})\n",
              "        if (message.buffers) {\n",
              "          for (const buffer of message.buffers) {\n",
              "            buffers.push(buffer);\n",
              "            downloaded += buffer.byteLength;\n",
              "            progress.value = downloaded;\n",
              "          }\n",
              "        }\n",
              "      }\n",
              "      const blob = new Blob(buffers, {type: 'application/binary'});\n",
              "      const a = document.createElement('a');\n",
              "      a.href = window.URL.createObjectURL(blob);\n",
              "      a.download = filename;\n",
              "      div.appendChild(a);\n",
              "      a.click();\n",
              "      div.remove();\n",
              "    }\n",
              "  "
            ]
          },
          "metadata": {}
        },
        {
          "output_type": "display_data",
          "data": {
            "text/plain": [
              "<IPython.core.display.Javascript object>"
            ],
            "application/javascript": [
              "download(\"download_137c5d5c-1787-4f38-bd2f-1ea2d3ddfb73\", \"00000000.mp4\", 7318012)"
            ]
          },
          "metadata": {}
        }
      ]
    }
  ]
}